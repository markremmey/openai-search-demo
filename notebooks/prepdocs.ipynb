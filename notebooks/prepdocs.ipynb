{
 "cells": [
  {
   "cell_type": "code",
   "execution_count": 3,
   "metadata": {},
   "outputs": [
    {
     "name": "stdout",
     "output_type": "stream",
     "text": [
      "Collecting pypdf==3.5.0 (from -r ../scripts/requirements.txt (line 1))\n",
      "  Using cached pypdf-3.5.0-py3-none-any.whl (244 kB)\n",
      "Collecting azure-identity==1.13.0b3 (from -r ../scripts/requirements.txt (line 2))\n",
      "  Using cached azure_identity-1.13.0b3-py3-none-any.whl (142 kB)\n",
      "Requirement already satisfied: azure-search-documents==11.4.0b3 in c:\\python311\\lib\\site-packages (from -r ../scripts/requirements.txt (line 3)) (11.4.0b3)\n",
      "Collecting azure-ai-formrecognizer==3.2.1 (from -r ../scripts/requirements.txt (line 4))\n",
      "  Using cached azure_ai_formrecognizer-3.2.1-py3-none-any.whl (228 kB)\n",
      "Requirement already satisfied: azure-storage-blob==12.14.1 in c:\\python311\\lib\\site-packages (from -r ../scripts/requirements.txt (line 5)) (12.14.1)\n",
      "Requirement already satisfied: azure-core<2.0.0,>=1.11.0 in c:\\python311\\lib\\site-packages (from azure-identity==1.13.0b3->-r ../scripts/requirements.txt (line 2)) (1.26.3)\n",
      "Requirement already satisfied: cryptography>=2.5 in c:\\python311\\lib\\site-packages (from azure-identity==1.13.0b3->-r ../scripts/requirements.txt (line 2)) (39.0.2)\n",
      "Requirement already satisfied: msal<2.0.0,>=1.20.0 in c:\\python311\\lib\\site-packages (from azure-identity==1.13.0b3->-r ../scripts/requirements.txt (line 2)) (1.21.0)\n",
      "Requirement already satisfied: msal-extensions<2.0.0,>=0.3.0 in c:\\python311\\lib\\site-packages (from azure-identity==1.13.0b3->-r ../scripts/requirements.txt (line 2)) (1.0.0)\n",
      "Requirement already satisfied: six>=1.12.0 in c:\\python311\\lib\\site-packages (from azure-identity==1.13.0b3->-r ../scripts/requirements.txt (line 2)) (1.16.0)\n",
      "Requirement already satisfied: azure-common~=1.1 in c:\\python311\\lib\\site-packages (from azure-search-documents==11.4.0b3->-r ../scripts/requirements.txt (line 3)) (1.1.28)\n",
      "Requirement already satisfied: isodate>=0.6.0 in c:\\python311\\lib\\site-packages (from azure-search-documents==11.4.0b3->-r ../scripts/requirements.txt (line 3)) (0.6.1)\n",
      "Requirement already satisfied: msrest>=0.6.21 in c:\\python311\\lib\\site-packages (from azure-ai-formrecognizer==3.2.1->-r ../scripts/requirements.txt (line 4)) (0.7.1)\n",
      "Requirement already satisfied: typing-extensions>=4.0.1 in c:\\python311\\lib\\site-packages (from azure-ai-formrecognizer==3.2.1->-r ../scripts/requirements.txt (line 4)) (4.5.0)\n",
      "Requirement already satisfied: requests>=2.18.4 in c:\\python311\\lib\\site-packages (from azure-core<2.0.0,>=1.11.0->azure-identity==1.13.0b3->-r ../scripts/requirements.txt (line 2)) (2.28.2)\n",
      "Requirement already satisfied: cffi>=1.12 in c:\\python311\\lib\\site-packages (from cryptography>=2.5->azure-identity==1.13.0b3->-r ../scripts/requirements.txt (line 2)) (1.15.1)\n",
      "Requirement already satisfied: PyJWT[crypto]<3,>=1.0.0 in c:\\python311\\lib\\site-packages (from msal<2.0.0,>=1.20.0->azure-identity==1.13.0b3->-r ../scripts/requirements.txt (line 2)) (2.6.0)\n",
      "Requirement already satisfied: portalocker<3,>=1.6 in c:\\python311\\lib\\site-packages (from msal-extensions<2.0.0,>=0.3.0->azure-identity==1.13.0b3->-r ../scripts/requirements.txt (line 2)) (2.7.0)\n",
      "Requirement already satisfied: certifi>=2017.4.17 in c:\\python311\\lib\\site-packages (from msrest>=0.6.21->azure-ai-formrecognizer==3.2.1->-r ../scripts/requirements.txt (line 4)) (2022.12.7)\n",
      "Requirement already satisfied: requests-oauthlib>=0.5.0 in c:\\python311\\lib\\site-packages (from msrest>=0.6.21->azure-ai-formrecognizer==3.2.1->-r ../scripts/requirements.txt (line 4)) (1.3.1)\n",
      "Requirement already satisfied: pycparser in c:\\python311\\lib\\site-packages (from cffi>=1.12->cryptography>=2.5->azure-identity==1.13.0b3->-r ../scripts/requirements.txt (line 2)) (2.21)\n",
      "Requirement already satisfied: pywin32>=226 in c:\\python311\\lib\\site-packages (from portalocker<3,>=1.6->msal-extensions<2.0.0,>=0.3.0->azure-identity==1.13.0b3->-r ../scripts/requirements.txt (line 2)) (305)\n",
      "Requirement already satisfied: charset-normalizer<4,>=2 in c:\\python311\\lib\\site-packages (from requests>=2.18.4->azure-core<2.0.0,>=1.11.0->azure-identity==1.13.0b3->-r ../scripts/requirements.txt (line 2)) (3.1.0)\n",
      "Requirement already satisfied: idna<4,>=2.5 in c:\\python311\\lib\\site-packages (from requests>=2.18.4->azure-core<2.0.0,>=1.11.0->azure-identity==1.13.0b3->-r ../scripts/requirements.txt (line 2)) (3.4)\n",
      "Requirement already satisfied: urllib3<1.27,>=1.21.1 in c:\\python311\\lib\\site-packages (from requests>=2.18.4->azure-core<2.0.0,>=1.11.0->azure-identity==1.13.0b3->-r ../scripts/requirements.txt (line 2)) (1.26.15)\n",
      "Requirement already satisfied: oauthlib>=3.0.0 in c:\\python311\\lib\\site-packages (from requests-oauthlib>=0.5.0->msrest>=0.6.21->azure-ai-formrecognizer==3.2.1->-r ../scripts/requirements.txt (line 4)) (3.2.2)\n",
      "Installing collected packages: pypdf, azure-ai-formrecognizer, azure-identity\n",
      "  Attempting uninstall: pypdf\n",
      "    Found existing installation: pypdf 3.7.0\n",
      "    Uninstalling pypdf-3.7.0:\n",
      "      Successfully uninstalled pypdf-3.7.0\n",
      "  Attempting uninstall: azure-identity\n",
      "    Found existing installation: azure-identity 1.12.0\n",
      "    Uninstalling azure-identity-1.12.0:\n",
      "      Successfully uninstalled azure-identity-1.12.0\n",
      "Successfully installed azure-ai-formrecognizer-3.2.1 azure-identity-1.13.0b3 pypdf-3.5.0\n"
     ]
    },
    {
     "name": "stderr",
     "output_type": "stream",
     "text": [
      "\n",
      "[notice] A new release of pip is available: 23.1 -> 23.1.2\n",
      "[notice] To update, run: python.exe -m pip install --upgrade pip\n"
     ]
    }
   ],
   "source": [
    "!pip install -r ../scripts/requirements.txt"
   ]
  },
  {
   "cell_type": "code",
   "execution_count": 5,
   "metadata": {},
   "outputs": [
    {
     "name": "stdout",
     "output_type": "stream",
     "text": [
      "  |       | Retrieving subscriptions...\n",
      "  |=      | Retrieving subscriptions...\n",
      "Logged in to Azure.\n"
     ]
    },
    {
     "name": "stderr",
     "output_type": "stream",
     "text": [
      "WARNING: `azd login` is deprecated and will be removed in a future release.\n",
      "Next time use `azd auth login`.\n"
     ]
    }
   ],
   "source": [
    "!azd login"
   ]
  },
  {
   "cell_type": "code",
   "execution_count": 7,
   "metadata": {},
   "outputs": [
    {
     "ename": "ImportError",
     "evalue": "cannot import name 'AzureDeveloperCliCredential' from 'azure.identity' (c:\\Python311\\Lib\\site-packages\\azure\\identity\\__init__.py)",
     "output_type": "error",
     "traceback": [
      "\u001b[1;31m---------------------------------------------------------------------------\u001b[0m",
      "\u001b[1;31mImportError\u001b[0m                               Traceback (most recent call last)",
      "Cell \u001b[1;32mIn[7], line 9\u001b[0m\n\u001b[0;32m      7\u001b[0m \u001b[39mimport\u001b[39;00m \u001b[39mtime\u001b[39;00m\n\u001b[0;32m      8\u001b[0m \u001b[39mfrom\u001b[39;00m \u001b[39mpypdf\u001b[39;00m \u001b[39mimport\u001b[39;00m PdfReader, PdfWriter\n\u001b[1;32m----> 9\u001b[0m \u001b[39mfrom\u001b[39;00m \u001b[39mazure\u001b[39;00m\u001b[39m.\u001b[39;00m\u001b[39midentity\u001b[39;00m \u001b[39mimport\u001b[39;00m AzureDeveloperCliCredential\n\u001b[0;32m     10\u001b[0m \u001b[39mfrom\u001b[39;00m \u001b[39mazure\u001b[39;00m\u001b[39m.\u001b[39;00m\u001b[39mcore\u001b[39;00m\u001b[39m.\u001b[39;00m\u001b[39mcredentials\u001b[39;00m \u001b[39mimport\u001b[39;00m AzureKeyCredential\n\u001b[0;32m     11\u001b[0m \u001b[39mfrom\u001b[39;00m \u001b[39mazure\u001b[39;00m\u001b[39m.\u001b[39;00m\u001b[39mstorage\u001b[39;00m\u001b[39m.\u001b[39;00m\u001b[39mblob\u001b[39;00m \u001b[39mimport\u001b[39;00m BlobServiceClient\n",
      "\u001b[1;31mImportError\u001b[0m: cannot import name 'AzureDeveloperCliCredential' from 'azure.identity' (c:\\Python311\\Lib\\site-packages\\azure\\identity\\__init__.py)"
     ]
    }
   ],
   "source": [
    "import os\n",
    "import argparse\n",
    "import glob\n",
    "import html\n",
    "import io\n",
    "import re\n",
    "import time\n",
    "from pypdf import PdfReader, PdfWriter\n",
    "from azure.identity import AzureDeveloperCliCredential\n",
    "from azure.core.credentials import AzureKeyCredential\n",
    "from azure.storage.blob import BlobServiceClient\n",
    "from azure.search.documents.indexes import SearchIndexClient\n",
    "from azure.search.documents.indexes.models import *\n",
    "from azure.search.documents import SearchClient\n",
    "from azure.ai.formrecognizer import DocumentAnalysisClient"
   ]
  },
  {
   "cell_type": "code",
   "execution_count": 10,
   "metadata": {},
   "outputs": [
    {
     "ename": "ModuleNotFoundError",
     "evalue": "No module named 'azure.identity.AzureDeveloperCliCredential'",
     "output_type": "error",
     "traceback": [
      "\u001b[1;31m---------------------------------------------------------------------------\u001b[0m",
      "\u001b[1;31mModuleNotFoundError\u001b[0m                       Traceback (most recent call last)",
      "Cell \u001b[1;32mIn[10], line 1\u001b[0m\n\u001b[1;32m----> 1\u001b[0m \u001b[39mimport\u001b[39;00m \u001b[39mazure\u001b[39;00m\u001b[39m.\u001b[39;00m\u001b[39midentity\u001b[39;00m\u001b[39m.\u001b[39;00m\u001b[39mAzureDeveloperCliCredential\u001b[39;00m\n\u001b[0;32m      3\u001b[0m \u001b[39m#help(azure.identity.AzureDeveloperCliCredential)\u001b[39;00m\n",
      "\u001b[1;31mModuleNotFoundError\u001b[0m: No module named 'azure.identity.AzureDeveloperCliCredential'"
     ]
    }
   ],
   "source": [
    "import azure.identity AzureDeveloperCliCredential\n",
    "\n",
    "#help(azure.identity.AzureDeveloperCliCredential)"
   ]
  }
 ],
 "metadata": {
  "kernelspec": {
   "display_name": "Python 3",
   "language": "python",
   "name": "python3"
  },
  "language_info": {
   "codemirror_mode": {
    "name": "ipython",
    "version": 3
   },
   "file_extension": ".py",
   "mimetype": "text/x-python",
   "name": "python",
   "nbconvert_exporter": "python",
   "pygments_lexer": "ipython3",
   "version": "3.11.0"
  },
  "orig_nbformat": 4
 },
 "nbformat": 4,
 "nbformat_minor": 2
}
